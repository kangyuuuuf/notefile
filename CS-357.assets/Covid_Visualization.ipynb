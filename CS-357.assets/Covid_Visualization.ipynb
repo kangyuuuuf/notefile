{
 "cells": [
  {
   "cell_type": "code",
   "execution_count": null,
   "metadata": {},
   "outputs": [],
   "source": [
    "import numpy as np\n",
    "import pandas as pd\n",
    "import matplotlib.pyplot as plt"
   ]
  },
  {
   "cell_type": "markdown",
   "metadata": {},
   "source": [
    "## Note about this activity:\n",
    "\n",
    "This notebook has two parts. In the first part, we will provide a simple pandas tutorial, to get you familiarized with this new library. Read it carefully, evaluate cells, make sure you understand the results. We will go over some important steps when dealing with large data sets.\n",
    "\n",
    "We will use pandas to solve the second part of this GA, as well as the upcoming GAs and lecture demos.\n"
   ]
  },
  {
   "cell_type": "markdown",
   "metadata": {},
   "source": [
    "## 1) Simple Pandas Example\n",
    "\n",
    "This example creates a pandas dataframe from a dictionary:"
   ]
  },
  {
   "cell_type": "code",
   "execution_count": 66,
   "metadata": {},
   "outputs": [],
   "source": [
    "data_set = {'first_name': ['Sarah', 'Gueniva', 'Know', 'Sara', 'Cat'], \n",
    "        'last_name': ['Mornig', 'Jaker', 'Alom', 'Ormon', 'Koozer'], \n",
    "        'age': [53, 26, 72, 73, 24]}\n",
    "df = pd.DataFrame(data_set, columns = ['first_name', 'last_name', 'age'])"
   ]
  },
  {
   "cell_type": "markdown",
   "metadata": {},
   "source": [
    "Now that we have loaded the data, let's take a look at what it looks like"
   ]
  },
  {
   "cell_type": "code",
   "execution_count": null,
   "metadata": {},
   "outputs": [
    {
     "data": {
      "text/html": [
       "<div>\n",
       "<style scoped>\n",
       "    .dataframe tbody tr th:only-of-type {\n",
       "        vertical-align: middle;\n",
       "    }\n",
       "\n",
       "    .dataframe tbody tr th {\n",
       "        vertical-align: top;\n",
       "    }\n",
       "\n",
       "    .dataframe thead th {\n",
       "        text-align: right;\n",
       "    }\n",
       "</style>\n",
       "<table border=\"1\" class=\"dataframe\">\n",
       "  <thead>\n",
       "    <tr style=\"text-align: right;\">\n",
       "      <th></th>\n",
       "      <th>first_name</th>\n",
       "      <th>last_name</th>\n",
       "      <th>age</th>\n",
       "    </tr>\n",
       "  </thead>\n",
       "  <tbody>\n",
       "    <tr>\n",
       "      <th>0</th>\n",
       "      <td>Sarah</td>\n",
       "      <td>Mornig</td>\n",
       "      <td>53</td>\n",
       "    </tr>\n",
       "    <tr>\n",
       "      <th>1</th>\n",
       "      <td>Gueniva</td>\n",
       "      <td>Jaker</td>\n",
       "      <td>26</td>\n",
       "    </tr>\n",
       "    <tr>\n",
       "      <th>2</th>\n",
       "      <td>Know</td>\n",
       "      <td>Alom</td>\n",
       "      <td>72</td>\n",
       "    </tr>\n",
       "    <tr>\n",
       "      <th>3</th>\n",
       "      <td>Sara</td>\n",
       "      <td>Ormon</td>\n",
       "      <td>73</td>\n",
       "    </tr>\n",
       "    <tr>\n",
       "      <th>4</th>\n",
       "      <td>Cat</td>\n",
       "      <td>Koozer</td>\n",
       "      <td>24</td>\n",
       "    </tr>\n",
       "  </tbody>\n",
       "</table>\n",
       "</div>"
      ],
      "text/plain": [
       "  first_name last_name  age\n",
       "0      Sarah    Mornig   53\n",
       "1    Gueniva     Jaker   26\n",
       "2       Know      Alom   72\n",
       "3       Sara     Ormon   73\n",
       "4        Cat    Koozer   24"
      ]
     },
     "execution_count": 37,
     "metadata": {},
     "output_type": "execute_result"
    }
   ],
   "source": [
    "df"
   ]
  },
  {
   "cell_type": "markdown",
   "metadata": {},
   "source": [
    "We can take a look at some properties of this data:"
   ]
  },
  {
   "cell_type": "code",
   "execution_count": 68,
   "metadata": {},
   "outputs": [
    {
     "data": {
      "text/plain": [
       "pandas.core.frame.DataFrame"
      ]
     },
     "execution_count": 68,
     "metadata": {},
     "output_type": "execute_result"
    }
   ],
   "source": [
    "# check the type\n",
    "type(df)"
   ]
  },
  {
   "cell_type": "code",
   "execution_count": 69,
   "metadata": {},
   "outputs": [
    {
     "data": {
      "text/plain": [
       "(5, 3)"
      ]
     },
     "execution_count": 69,
     "metadata": {},
     "output_type": "execute_result"
    }
   ],
   "source": [
    "# check the shape\n",
    "df.shape"
   ]
  },
  {
   "cell_type": "markdown",
   "metadata": {},
   "source": [
    "In Pandas, indexing a dataframe primarily works similarly to indexing a dictionary where the keys are the column labels.\n",
    "We can access the column labels with `df.columns`, and use the attribute `df.columns.values` to have the labels as a numpy array."
   ]
  },
  {
   "cell_type": "code",
   "execution_count": 70,
   "metadata": {},
   "outputs": [
    {
     "data": {
      "text/plain": [
       "Index(['first_name', 'last_name', 'age'], dtype='object')"
      ]
     },
     "execution_count": 70,
     "metadata": {},
     "output_type": "execute_result"
    }
   ],
   "source": [
    "df.columns"
   ]
  },
  {
   "cell_type": "code",
   "execution_count": 71,
   "metadata": {},
   "outputs": [
    {
     "data": {
      "text/plain": [
       "array(['first_name', 'last_name', 'age'], dtype=object)"
      ]
     },
     "execution_count": 71,
     "metadata": {},
     "output_type": "execute_result"
    }
   ],
   "source": [
    "df.columns.values"
   ]
  },
  {
   "cell_type": "markdown",
   "metadata": {},
   "source": [
    "Using the header labels, we can access all the rows in a specific column using `df['label']`, for example:"
   ]
  },
  {
   "cell_type": "code",
   "execution_count": 72,
   "metadata": {},
   "outputs": [
    {
     "data": {
      "text/plain": [
       "0    53\n",
       "1    26\n",
       "2    72\n",
       "3    73\n",
       "4    24\n",
       "Name: age, dtype: int64"
      ]
     },
     "execution_count": 72,
     "metadata": {},
     "output_type": "execute_result"
    }
   ],
   "source": [
    "df['age']"
   ]
  },
  {
   "cell_type": "markdown",
   "metadata": {},
   "source": [
    "If we want to filter our dataset based on a specific values of a column, or logical conditions, we can use boolean expressions. Check the following:"
   ]
  },
  {
   "cell_type": "code",
   "execution_count": 75,
   "metadata": {},
   "outputs": [
    {
     "data": {
      "text/plain": [
       "0    False\n",
       "1     True\n",
       "2    False\n",
       "3    False\n",
       "4     True\n",
       "Name: age, dtype: bool"
      ]
     },
     "execution_count": 75,
     "metadata": {},
     "output_type": "execute_result"
    }
   ],
   "source": [
    "df['age'] < 30"
   ]
  },
  {
   "cell_type": "markdown",
   "metadata": {},
   "source": [
    "We can use the boolean results to extract a subset of the pandas dataframe:"
   ]
  },
  {
   "cell_type": "code",
   "execution_count": 78,
   "metadata": {},
   "outputs": [
    {
     "data": {
      "text/html": [
       "<div>\n",
       "<style scoped>\n",
       "    .dataframe tbody tr th:only-of-type {\n",
       "        vertical-align: middle;\n",
       "    }\n",
       "\n",
       "    .dataframe tbody tr th {\n",
       "        vertical-align: top;\n",
       "    }\n",
       "\n",
       "    .dataframe thead th {\n",
       "        text-align: right;\n",
       "    }\n",
       "</style>\n",
       "<table border=\"1\" class=\"dataframe\">\n",
       "  <thead>\n",
       "    <tr style=\"text-align: right;\">\n",
       "      <th></th>\n",
       "      <th>first_name</th>\n",
       "      <th>last_name</th>\n",
       "      <th>age</th>\n",
       "    </tr>\n",
       "  </thead>\n",
       "  <tbody>\n",
       "    <tr>\n",
       "      <th>1</th>\n",
       "      <td>Gueniva</td>\n",
       "      <td>Jaker</td>\n",
       "      <td>26</td>\n",
       "    </tr>\n",
       "    <tr>\n",
       "      <th>4</th>\n",
       "      <td>Cat</td>\n",
       "      <td>Koozer</td>\n",
       "      <td>24</td>\n",
       "    </tr>\n",
       "  </tbody>\n",
       "</table>\n",
       "</div>"
      ],
      "text/plain": [
       "  first_name last_name  age\n",
       "1    Gueniva     Jaker   26\n",
       "4        Cat    Koozer   24"
      ]
     },
     "execution_count": 78,
     "metadata": {},
     "output_type": "execute_result"
    }
   ],
   "source": [
    "df[df['age'] < 30]"
   ]
  },
  {
   "cell_type": "markdown",
   "metadata": {},
   "source": [
    "Suppose we want to assign this new dataframe to another variable:"
   ]
  },
  {
   "cell_type": "code",
   "execution_count": null,
   "metadata": {},
   "outputs": [
    {
     "data": {
      "text/html": [
       "<div>\n",
       "<style scoped>\n",
       "    .dataframe tbody tr th:only-of-type {\n",
       "        vertical-align: middle;\n",
       "    }\n",
       "\n",
       "    .dataframe tbody tr th {\n",
       "        vertical-align: top;\n",
       "    }\n",
       "\n",
       "    .dataframe thead th {\n",
       "        text-align: right;\n",
       "    }\n",
       "</style>\n",
       "<table border=\"1\" class=\"dataframe\">\n",
       "  <thead>\n",
       "    <tr style=\"text-align: right;\">\n",
       "      <th></th>\n",
       "      <th>first_name</th>\n",
       "      <th>last_name</th>\n",
       "      <th>age</th>\n",
       "    </tr>\n",
       "  </thead>\n",
       "  <tbody>\n",
       "    <tr>\n",
       "      <th>1</th>\n",
       "      <td>Gueniva</td>\n",
       "      <td>Jaker</td>\n",
       "      <td>26</td>\n",
       "    </tr>\n",
       "    <tr>\n",
       "      <th>4</th>\n",
       "      <td>Cat</td>\n",
       "      <td>Koozer</td>\n",
       "      <td>24</td>\n",
       "    </tr>\n",
       "  </tbody>\n",
       "</table>\n",
       "</div>"
      ],
      "text/plain": [
       "  first_name last_name  age\n",
       "1    Gueniva     Jaker   26\n",
       "4        Cat    Koozer   24"
      ]
     },
     "execution_count": 45,
     "metadata": {},
     "output_type": "execute_result"
    }
   ],
   "source": [
    "df_younger  = df[df['age'] < 30]\n",
    "df_younger"
   ]
  },
  {
   "cell_type": "markdown",
   "metadata": {},
   "source": [
    "The person named \"Cat\" decided to change their name. The new name should be \"Catty\". Let's try to assign the name 'Catty':"
   ]
  },
  {
   "cell_type": "code",
   "execution_count": null,
   "metadata": {},
   "outputs": [],
   "source": [
    "df_younger[df_younger['first_name'] == 'Cat']['first_name'] = 'Catty'"
   ]
  },
  {
   "cell_type": "markdown",
   "metadata": {},
   "source": [
    "`SettingWithCopyWarning` is a common warning that people run into when learning pandas. "
   ]
  },
  {
   "cell_type": "markdown",
   "metadata": {},
   "source": [
    "Depending on what your goals are, you may want to modify the original `df`, or you may want to modify only `df_younger`. The warning is to make sure you are aware that your code may have done one, when you may have wanted to do the other.\n",
    "\n",
    "Here is one possible solution:"
   ]
  },
  {
   "cell_type": "code",
   "execution_count": null,
   "metadata": {},
   "outputs": [
    {
     "data": {
      "text/html": [
       "<div>\n",
       "<style scoped>\n",
       "    .dataframe tbody tr th:only-of-type {\n",
       "        vertical-align: middle;\n",
       "    }\n",
       "\n",
       "    .dataframe tbody tr th {\n",
       "        vertical-align: top;\n",
       "    }\n",
       "\n",
       "    .dataframe thead th {\n",
       "        text-align: right;\n",
       "    }\n",
       "</style>\n",
       "<table border=\"1\" class=\"dataframe\">\n",
       "  <thead>\n",
       "    <tr style=\"text-align: right;\">\n",
       "      <th></th>\n",
       "      <th>first_name</th>\n",
       "      <th>last_name</th>\n",
       "      <th>age</th>\n",
       "    </tr>\n",
       "  </thead>\n",
       "  <tbody>\n",
       "    <tr>\n",
       "      <th>1</th>\n",
       "      <td>Gueniva</td>\n",
       "      <td>Jaker</td>\n",
       "      <td>26</td>\n",
       "    </tr>\n",
       "    <tr>\n",
       "      <th>4</th>\n",
       "      <td>Catty</td>\n",
       "      <td>Koozer</td>\n",
       "      <td>24</td>\n",
       "    </tr>\n",
       "  </tbody>\n",
       "</table>\n",
       "</div>"
      ],
      "text/plain": [
       "  first_name last_name  age\n",
       "1    Gueniva     Jaker   26\n",
       "4      Catty    Koozer   24"
      ]
     },
     "execution_count": 29,
     "metadata": {},
     "output_type": "execute_result"
    }
   ],
   "source": [
    "df_younger  = df[df['age'] < 30].copy()\n",
    "df_younger.loc[df_younger['first_name']=='Cat', ['first_name']] = 'Catty'\n",
    "df_younger"
   ]
  },
  {
   "cell_type": "markdown",
   "metadata": {},
   "source": [
    "For the remaining of this activity, we will explore the Pandas library and use it to examine a dataset of Covid-19 data."
   ]
  },
  {
   "cell_type": "code",
   "execution_count": null,
   "metadata": {},
   "outputs": [
    {
     "data": {
      "text/html": [
       "<div>\n",
       "<style scoped>\n",
       "    .dataframe tbody tr th:only-of-type {\n",
       "        vertical-align: middle;\n",
       "    }\n",
       "\n",
       "    .dataframe tbody tr th {\n",
       "        vertical-align: top;\n",
       "    }\n",
       "\n",
       "    .dataframe thead th {\n",
       "        text-align: right;\n",
       "    }\n",
       "</style>\n",
       "<table border=\"1\" class=\"dataframe\">\n",
       "  <thead>\n",
       "    <tr style=\"text-align: right;\">\n",
       "      <th></th>\n",
       "      <th>first_name</th>\n",
       "      <th>last_name</th>\n",
       "      <th>age</th>\n",
       "    </tr>\n",
       "  </thead>\n",
       "  <tbody>\n",
       "    <tr>\n",
       "      <th>1</th>\n",
       "      <td>Gueniva</td>\n",
       "      <td>Jaker</td>\n",
       "      <td>26</td>\n",
       "    </tr>\n",
       "    <tr>\n",
       "      <th>4</th>\n",
       "      <td>Catty</td>\n",
       "      <td>Koozer</td>\n",
       "      <td>24</td>\n",
       "    </tr>\n",
       "  </tbody>\n",
       "</table>\n",
       "</div>"
      ],
      "text/plain": [
       "  first_name last_name  age\n",
       "1    Gueniva     Jaker   26\n",
       "4      Catty    Koozer   24"
      ]
     },
     "execution_count": 47,
     "metadata": {},
     "output_type": "execute_result"
    }
   ],
   "source": [
    "df_younger =  df[df['age'] < 30].copy()\n",
    "df_younger.loc[df_younger['first_name']=='Cat', ['first_name']] = 'Catty'\n",
    "df_younger"
   ]
  },
  {
   "cell_type": "code",
   "execution_count": null,
   "metadata": {},
   "outputs": [
    {
     "data": {
      "text/html": [
       "<div>\n",
       "<style scoped>\n",
       "    .dataframe tbody tr th:only-of-type {\n",
       "        vertical-align: middle;\n",
       "    }\n",
       "\n",
       "    .dataframe tbody tr th {\n",
       "        vertical-align: top;\n",
       "    }\n",
       "\n",
       "    .dataframe thead th {\n",
       "        text-align: right;\n",
       "    }\n",
       "</style>\n",
       "<table border=\"1\" class=\"dataframe\">\n",
       "  <thead>\n",
       "    <tr style=\"text-align: right;\">\n",
       "      <th></th>\n",
       "      <th>first_name</th>\n",
       "      <th>last_name</th>\n",
       "      <th>age</th>\n",
       "    </tr>\n",
       "  </thead>\n",
       "  <tbody>\n",
       "    <tr>\n",
       "      <th>0</th>\n",
       "      <td>Sarah</td>\n",
       "      <td>Mornig</td>\n",
       "      <td>53</td>\n",
       "    </tr>\n",
       "    <tr>\n",
       "      <th>1</th>\n",
       "      <td>Gueniva</td>\n",
       "      <td>Jaker</td>\n",
       "      <td>26</td>\n",
       "    </tr>\n",
       "    <tr>\n",
       "      <th>2</th>\n",
       "      <td>Know</td>\n",
       "      <td>Alom</td>\n",
       "      <td>72</td>\n",
       "    </tr>\n",
       "    <tr>\n",
       "      <th>3</th>\n",
       "      <td>Sara</td>\n",
       "      <td>Ormon</td>\n",
       "      <td>73</td>\n",
       "    </tr>\n",
       "    <tr>\n",
       "      <th>4</th>\n",
       "      <td>Cat</td>\n",
       "      <td>Koozer</td>\n",
       "      <td>24</td>\n",
       "    </tr>\n",
       "  </tbody>\n",
       "</table>\n",
       "</div>"
      ],
      "text/plain": [
       "  first_name last_name  age\n",
       "0      Sarah    Mornig   53\n",
       "1    Gueniva     Jaker   26\n",
       "2       Know      Alom   72\n",
       "3       Sara     Ormon   73\n",
       "4        Cat    Koozer   24"
      ]
     },
     "execution_count": 48,
     "metadata": {},
     "output_type": "execute_result"
    }
   ],
   "source": [
    "df"
   ]
  },
  {
   "cell_type": "markdown",
   "metadata": {},
   "source": [
    "## 2) COVID-19 data set\n",
    "\n",
    " We will first start by reading in the data into a Pandas dataframe. This is just a small set of the complete COVID-19 dataset."
   ]
  },
  {
   "cell_type": "code",
   "execution_count": null,
   "metadata": {},
   "outputs": [],
   "source": [
    "# read in covid data from Johns Hopkins University\n",
    "covid_data = pd.read_csv('jhu.csv')"
   ]
  },
  {
   "cell_type": "markdown",
   "metadata": {},
   "source": [
    "Now that we have loaded the data, let's take a look at what it looks like"
   ]
  },
  {
   "cell_type": "code",
   "execution_count": null,
   "metadata": {},
   "outputs": [
    {
     "data": {
      "text/html": [
       "<div>\n",
       "<style scoped>\n",
       "    .dataframe tbody tr th:only-of-type {\n",
       "        vertical-align: middle;\n",
       "    }\n",
       "\n",
       "    .dataframe tbody tr th {\n",
       "        vertical-align: top;\n",
       "    }\n",
       "\n",
       "    .dataframe thead th {\n",
       "        text-align: right;\n",
       "    }\n",
       "</style>\n",
       "<table border=\"1\" class=\"dataframe\">\n",
       "  <thead>\n",
       "    <tr style=\"text-align: right;\">\n",
       "      <th></th>\n",
       "      <th>Country_Region</th>\n",
       "      <th>Province_State</th>\n",
       "      <th>Active</th>\n",
       "      <th>Date</th>\n",
       "      <th>People_Tested</th>\n",
       "      <th>Confirmed</th>\n",
       "      <th>Deaths</th>\n",
       "      <th>Recovered</th>\n",
       "    </tr>\n",
       "  </thead>\n",
       "  <tbody>\n",
       "    <tr>\n",
       "      <th>0</th>\n",
       "      <td>Afghanistan</td>\n",
       "      <td>NaN</td>\n",
       "      <td>1</td>\n",
       "      <td>2020-02-24</td>\n",
       "      <td>NaN</td>\n",
       "      <td>1</td>\n",
       "      <td>0</td>\n",
       "      <td>0</td>\n",
       "    </tr>\n",
       "    <tr>\n",
       "      <th>1</th>\n",
       "      <td>Afghanistan</td>\n",
       "      <td>NaN</td>\n",
       "      <td>1</td>\n",
       "      <td>2020-02-25</td>\n",
       "      <td>NaN</td>\n",
       "      <td>1</td>\n",
       "      <td>0</td>\n",
       "      <td>0</td>\n",
       "    </tr>\n",
       "    <tr>\n",
       "      <th>2</th>\n",
       "      <td>Afghanistan</td>\n",
       "      <td>NaN</td>\n",
       "      <td>1</td>\n",
       "      <td>2020-02-26</td>\n",
       "      <td>NaN</td>\n",
       "      <td>1</td>\n",
       "      <td>0</td>\n",
       "      <td>0</td>\n",
       "    </tr>\n",
       "    <tr>\n",
       "      <th>3</th>\n",
       "      <td>Afghanistan</td>\n",
       "      <td>NaN</td>\n",
       "      <td>1</td>\n",
       "      <td>2020-02-27</td>\n",
       "      <td>NaN</td>\n",
       "      <td>1</td>\n",
       "      <td>0</td>\n",
       "      <td>0</td>\n",
       "    </tr>\n",
       "    <tr>\n",
       "      <th>4</th>\n",
       "      <td>Afghanistan</td>\n",
       "      <td>NaN</td>\n",
       "      <td>1</td>\n",
       "      <td>2020-02-28</td>\n",
       "      <td>NaN</td>\n",
       "      <td>1</td>\n",
       "      <td>0</td>\n",
       "      <td>0</td>\n",
       "    </tr>\n",
       "    <tr>\n",
       "      <th>...</th>\n",
       "      <td>...</td>\n",
       "      <td>...</td>\n",
       "      <td>...</td>\n",
       "      <td>...</td>\n",
       "      <td>...</td>\n",
       "      <td>...</td>\n",
       "      <td>...</td>\n",
       "      <td>...</td>\n",
       "    </tr>\n",
       "    <tr>\n",
       "      <th>59318</th>\n",
       "      <td>United States</td>\n",
       "      <td>United States</td>\n",
       "      <td>4892057</td>\n",
       "      <td>2020-10-23</td>\n",
       "      <td>130243113.0</td>\n",
       "      <td>8492891</td>\n",
       "      <td>223975</td>\n",
       "      <td>3375427</td>\n",
       "    </tr>\n",
       "    <tr>\n",
       "      <th>59319</th>\n",
       "      <td>United States</td>\n",
       "      <td>United States</td>\n",
       "      <td>4943632</td>\n",
       "      <td>2020-10-24</td>\n",
       "      <td>131453610.0</td>\n",
       "      <td>8576762</td>\n",
       "      <td>224889</td>\n",
       "      <td>3406656</td>\n",
       "    </tr>\n",
       "    <tr>\n",
       "      <th>59320</th>\n",
       "      <td>United States</td>\n",
       "      <td>United States</td>\n",
       "      <td>4987859</td>\n",
       "      <td>2020-10-25</td>\n",
       "      <td>132566759.0</td>\n",
       "      <td>8637375</td>\n",
       "      <td>225229</td>\n",
       "      <td>3422878</td>\n",
       "    </tr>\n",
       "    <tr>\n",
       "      <th>59321</th>\n",
       "      <td>United States</td>\n",
       "      <td>United States</td>\n",
       "      <td>5016589</td>\n",
       "      <td>2020-10-26</td>\n",
       "      <td>133748444.0</td>\n",
       "      <td>8704192</td>\n",
       "      <td>225706</td>\n",
       "      <td>3460455</td>\n",
       "    </tr>\n",
       "    <tr>\n",
       "      <th>59322</th>\n",
       "      <td>United States</td>\n",
       "      <td>United States</td>\n",
       "      <td>5063075</td>\n",
       "      <td>2020-10-27</td>\n",
       "      <td>138455519.0</td>\n",
       "      <td>8777432</td>\n",
       "      <td>226691</td>\n",
       "      <td>3487666</td>\n",
       "    </tr>\n",
       "  </tbody>\n",
       "</table>\n",
       "<p>59323 rows × 8 columns</p>\n",
       "</div>"
      ],
      "text/plain": [
       "      Country_Region Province_State   Active        Date  People_Tested  \\\n",
       "0        Afghanistan            NaN        1  2020-02-24            NaN   \n",
       "1        Afghanistan            NaN        1  2020-02-25            NaN   \n",
       "2        Afghanistan            NaN        1  2020-02-26            NaN   \n",
       "3        Afghanistan            NaN        1  2020-02-27            NaN   \n",
       "4        Afghanistan            NaN        1  2020-02-28            NaN   \n",
       "...              ...            ...      ...         ...            ...   \n",
       "59318  United States  United States  4892057  2020-10-23    130243113.0   \n",
       "59319  United States  United States  4943632  2020-10-24    131453610.0   \n",
       "59320  United States  United States  4987859  2020-10-25    132566759.0   \n",
       "59321  United States  United States  5016589  2020-10-26    133748444.0   \n",
       "59322  United States  United States  5063075  2020-10-27    138455519.0   \n",
       "\n",
       "       Confirmed  Deaths  Recovered  \n",
       "0              1       0          0  \n",
       "1              1       0          0  \n",
       "2              1       0          0  \n",
       "3              1       0          0  \n",
       "4              1       0          0  \n",
       "...          ...     ...        ...  \n",
       "59318    8492891  223975    3375427  \n",
       "59319    8576762  224889    3406656  \n",
       "59320    8637375  225229    3422878  \n",
       "59321    8704192  225706    3460455  \n",
       "59322    8777432  226691    3487666  \n",
       "\n",
       "[59323 rows x 8 columns]"
      ]
     },
     "execution_count": 51,
     "metadata": {},
     "output_type": "execute_result"
    }
   ],
   "source": [
    "covid_data"
   ]
  },
  {
   "cell_type": "markdown",
   "metadata": {},
   "source": [
    "We can take a look at a small portion of the dataframe using the function `.head()`"
   ]
  },
  {
   "cell_type": "code",
   "execution_count": null,
   "metadata": {},
   "outputs": [
    {
     "data": {
      "text/html": [
       "<div>\n",
       "<style scoped>\n",
       "    .dataframe tbody tr th:only-of-type {\n",
       "        vertical-align: middle;\n",
       "    }\n",
       "\n",
       "    .dataframe tbody tr th {\n",
       "        vertical-align: top;\n",
       "    }\n",
       "\n",
       "    .dataframe thead th {\n",
       "        text-align: right;\n",
       "    }\n",
       "</style>\n",
       "<table border=\"1\" class=\"dataframe\">\n",
       "  <thead>\n",
       "    <tr style=\"text-align: right;\">\n",
       "      <th></th>\n",
       "      <th>Country_Region</th>\n",
       "      <th>Province_State</th>\n",
       "      <th>Active</th>\n",
       "      <th>Date</th>\n",
       "      <th>People_Tested</th>\n",
       "      <th>Confirmed</th>\n",
       "      <th>Deaths</th>\n",
       "      <th>Recovered</th>\n",
       "    </tr>\n",
       "  </thead>\n",
       "  <tbody>\n",
       "    <tr>\n",
       "      <th>0</th>\n",
       "      <td>Afghanistan</td>\n",
       "      <td>NaN</td>\n",
       "      <td>1</td>\n",
       "      <td>2020-02-24</td>\n",
       "      <td>NaN</td>\n",
       "      <td>1</td>\n",
       "      <td>0</td>\n",
       "      <td>0</td>\n",
       "    </tr>\n",
       "    <tr>\n",
       "      <th>1</th>\n",
       "      <td>Afghanistan</td>\n",
       "      <td>NaN</td>\n",
       "      <td>1</td>\n",
       "      <td>2020-02-25</td>\n",
       "      <td>NaN</td>\n",
       "      <td>1</td>\n",
       "      <td>0</td>\n",
       "      <td>0</td>\n",
       "    </tr>\n",
       "    <tr>\n",
       "      <th>2</th>\n",
       "      <td>Afghanistan</td>\n",
       "      <td>NaN</td>\n",
       "      <td>1</td>\n",
       "      <td>2020-02-26</td>\n",
       "      <td>NaN</td>\n",
       "      <td>1</td>\n",
       "      <td>0</td>\n",
       "      <td>0</td>\n",
       "    </tr>\n",
       "    <tr>\n",
       "      <th>3</th>\n",
       "      <td>Afghanistan</td>\n",
       "      <td>NaN</td>\n",
       "      <td>1</td>\n",
       "      <td>2020-02-27</td>\n",
       "      <td>NaN</td>\n",
       "      <td>1</td>\n",
       "      <td>0</td>\n",
       "      <td>0</td>\n",
       "    </tr>\n",
       "    <tr>\n",
       "      <th>4</th>\n",
       "      <td>Afghanistan</td>\n",
       "      <td>NaN</td>\n",
       "      <td>1</td>\n",
       "      <td>2020-02-28</td>\n",
       "      <td>NaN</td>\n",
       "      <td>1</td>\n",
       "      <td>0</td>\n",
       "      <td>0</td>\n",
       "    </tr>\n",
       "  </tbody>\n",
       "</table>\n",
       "</div>"
      ],
      "text/plain": [
       "  Country_Region Province_State  Active        Date  People_Tested  Confirmed  \\\n",
       "0    Afghanistan            NaN       1  2020-02-24            NaN          1   \n",
       "1    Afghanistan            NaN       1  2020-02-25            NaN          1   \n",
       "2    Afghanistan            NaN       1  2020-02-26            NaN          1   \n",
       "3    Afghanistan            NaN       1  2020-02-27            NaN          1   \n",
       "4    Afghanistan            NaN       1  2020-02-28            NaN          1   \n",
       "\n",
       "   Deaths  Recovered  \n",
       "0       0          0  \n",
       "1       0          0  \n",
       "2       0          0  \n",
       "3       0          0  \n",
       "4       0          0  "
      ]
     },
     "execution_count": 34,
     "metadata": {},
     "output_type": "execute_result"
    }
   ],
   "source": [
    "covid_data.head()"
   ]
  },
  {
   "cell_type": "markdown",
   "metadata": {},
   "source": [
    "Take a look at the shape of the covid dataframe.  How many rows and columns are there?"
   ]
  },
  {
   "cell_type": "code",
   "execution_count": null,
   "metadata": {},
   "outputs": [],
   "source": []
  },
  {
   "cell_type": "markdown",
   "metadata": {},
   "source": [
    "Find the column labels for the `covid_data`. Store your result in `labels`, a 1d numpy array"
   ]
  },
  {
   "cell_type": "code",
   "execution_count": null,
   "metadata": {},
   "outputs": [],
   "source": [
    "#grade (enter your code in this cell - DO NOT DELETE THIS LINE) \n",
    "labels = np.array(covid_data.columns)"
   ]
  },
  {
   "cell_type": "markdown",
   "metadata": {},
   "source": [
    "Using the labels, we can access all the rows in a specific column with `<dataframe>['label_name']`.\n",
    "\n",
    "Access the column corresponding to the label 'Country_Region':"
   ]
  },
  {
   "cell_type": "code",
   "execution_count": null,
   "metadata": {},
   "outputs": [
    {
     "data": {
      "text/plain": [
       "0          Afghanistan\n",
       "1          Afghanistan\n",
       "2          Afghanistan\n",
       "3          Afghanistan\n",
       "4          Afghanistan\n",
       "             ...      \n",
       "59318    United States\n",
       "59319    United States\n",
       "59320    United States\n",
       "59321    United States\n",
       "59322    United States\n",
       "Name: Country_Region, Length: 59323, dtype: object"
      ]
     },
     "execution_count": 58,
     "metadata": {},
     "output_type": "execute_result"
    }
   ],
   "source": [
    "covid_data['Country_Region']"
   ]
  },
  {
   "cell_type": "markdown",
   "metadata": {},
   "source": [
    "Now that we know how to access information in a Pandas dataframe, you can print the first 3 rows and columns of our data."
   ]
  },
  {
   "cell_type": "code",
   "execution_count": null,
   "metadata": {},
   "outputs": [
    {
     "data": {
      "text/html": [
       "<div>\n",
       "<style scoped>\n",
       "    .dataframe tbody tr th:only-of-type {\n",
       "        vertical-align: middle;\n",
       "    }\n",
       "\n",
       "    .dataframe tbody tr th {\n",
       "        vertical-align: top;\n",
       "    }\n",
       "\n",
       "    .dataframe thead th {\n",
       "        text-align: right;\n",
       "    }\n",
       "</style>\n",
       "<table border=\"1\" class=\"dataframe\">\n",
       "  <thead>\n",
       "    <tr style=\"text-align: right;\">\n",
       "      <th></th>\n",
       "      <th>Country_Region</th>\n",
       "      <th>Province_State</th>\n",
       "      <th>Active</th>\n",
       "    </tr>\n",
       "  </thead>\n",
       "  <tbody>\n",
       "    <tr>\n",
       "      <th>0</th>\n",
       "      <td>Afghanistan</td>\n",
       "      <td>NaN</td>\n",
       "      <td>1</td>\n",
       "    </tr>\n",
       "    <tr>\n",
       "      <th>1</th>\n",
       "      <td>Afghanistan</td>\n",
       "      <td>NaN</td>\n",
       "      <td>1</td>\n",
       "    </tr>\n",
       "    <tr>\n",
       "      <th>2</th>\n",
       "      <td>Afghanistan</td>\n",
       "      <td>NaN</td>\n",
       "      <td>1</td>\n",
       "    </tr>\n",
       "  </tbody>\n",
       "</table>\n",
       "</div>"
      ],
      "text/plain": [
       "  Country_Region Province_State  Active\n",
       "0    Afghanistan            NaN       1\n",
       "1    Afghanistan            NaN       1\n",
       "2    Afghanistan            NaN       1"
      ]
     },
     "execution_count": 59,
     "metadata": {},
     "output_type": "execute_result"
    }
   ],
   "source": [
    "covid_data[labels[:3]][:3]"
   ]
  },
  {
   "cell_type": "markdown",
   "metadata": {},
   "source": [
    "Pandas does allow us to index a dataframe in the usual manner using the `<dataframe>.iloc[]` function.  `iloc[:]` allows you to slice a dataframe as if it were a Numpy array or Python list. Get the first 3 rows and columns using this function."
   ]
  },
  {
   "cell_type": "code",
   "execution_count": null,
   "metadata": {},
   "outputs": [
    {
     "data": {
      "text/html": [
       "<div>\n",
       "<style scoped>\n",
       "    .dataframe tbody tr th:only-of-type {\n",
       "        vertical-align: middle;\n",
       "    }\n",
       "\n",
       "    .dataframe tbody tr th {\n",
       "        vertical-align: top;\n",
       "    }\n",
       "\n",
       "    .dataframe thead th {\n",
       "        text-align: right;\n",
       "    }\n",
       "</style>\n",
       "<table border=\"1\" class=\"dataframe\">\n",
       "  <thead>\n",
       "    <tr style=\"text-align: right;\">\n",
       "      <th></th>\n",
       "      <th>Country_Region</th>\n",
       "      <th>Province_State</th>\n",
       "      <th>Active</th>\n",
       "    </tr>\n",
       "  </thead>\n",
       "  <tbody>\n",
       "    <tr>\n",
       "      <th>0</th>\n",
       "      <td>Afghanistan</td>\n",
       "      <td>NaN</td>\n",
       "      <td>1</td>\n",
       "    </tr>\n",
       "    <tr>\n",
       "      <th>1</th>\n",
       "      <td>Afghanistan</td>\n",
       "      <td>NaN</td>\n",
       "      <td>1</td>\n",
       "    </tr>\n",
       "    <tr>\n",
       "      <th>2</th>\n",
       "      <td>Afghanistan</td>\n",
       "      <td>NaN</td>\n",
       "      <td>1</td>\n",
       "    </tr>\n",
       "  </tbody>\n",
       "</table>\n",
       "</div>"
      ],
      "text/plain": [
       "  Country_Region Province_State  Active\n",
       "0    Afghanistan            NaN       1\n",
       "1    Afghanistan            NaN       1\n",
       "2    Afghanistan            NaN       1"
      ]
     },
     "execution_count": 60,
     "metadata": {},
     "output_type": "execute_result"
    }
   ],
   "source": [
    "covid_data.iloc[:3,:3]"
   ]
  },
  {
   "cell_type": "markdown",
   "metadata": {},
   "source": [
    "Now let's explore more our covid data set.\n",
    "We notice that the first column contains the names of countries in our dataset.\n",
    "\n",
    "### a) How many unique countries do we have represented in our data?\n",
    "\n",
    "You can use the pandas function `nunique` https://pandas.pydata.org/pandas-docs/stable/reference/api/pandas.DataFrame.nunique.html\n",
    "\n",
    "Store this scalar value in the variable `number_unique_countries`"
   ]
  },
  {
   "cell_type": "code",
   "execution_count": 81,
   "metadata": {},
   "outputs": [
    {
     "name": "stdout",
     "output_type": "stream",
     "text": [
      "219\n"
     ]
    }
   ],
   "source": [
    "#grade (enter your code in this cell - DO NOT DELETE THIS LINE) \n",
    "number_unique_countries = covid_data.nunique()[0]\n",
    "print(number_unique_countries)"
   ]
  },
  {
   "cell_type": "markdown",
   "metadata": {},
   "source": [
    "### b) What are the unique countries?\n",
    "\n",
    "Obtain the variable `unique_countries`, a 1d numpy array including the countries that appear in the data frame. Note that the length of this array should be the same as the one given by `number_unique_countries`. Each entry of the array is a string, with the name of the country.\n",
    "\n",
    "You can use the function `pd.unique`: (https://pandas.pydata.org/pandas-docs/stable/reference/api/pandas.unique.html)"
   ]
  },
  {
   "cell_type": "code",
   "execution_count": 92,
   "metadata": {},
   "outputs": [],
   "source": [
    "#grade (enter your code in this cell - DO NOT DELETE THIS LINE) \n",
    "unique_countries = pd.unique(covid_data['Country_Region'].T)"
   ]
  },
  {
   "cell_type": "code",
   "execution_count": 93,
   "metadata": {},
   "outputs": [
    {
     "name": "stdout",
     "output_type": "stream",
     "text": [
      "219\n",
      "<class 'numpy.ndarray'>\n",
      "<class 'str'>\n"
     ]
    }
   ],
   "source": [
    "print(len(unique_countries))\n",
    "print(type(unique_countries))\n",
    "print(type(unique_countries[0]))"
   ]
  },
  {
   "cell_type": "markdown",
   "metadata": {},
   "source": [
    "### c) Get the dataframe only corresponding to US data\n",
    "\n",
    "Extract a smaller view of the dataframe `covid_data` that displays only the data from the United States. Store a **copy** of that in a new variable called `us_data`.\n"
   ]
  },
  {
   "cell_type": "code",
   "execution_count": 99,
   "metadata": {},
   "outputs": [],
   "source": [
    "#grade (enter your code in this cell - DO NOT DELETE THIS LINE) \n",
    "us_data = covid_data[covid_data['Country_Region'] == 'United States'].copy()"
   ]
  },
  {
   "cell_type": "code",
   "execution_count": 100,
   "metadata": {},
   "outputs": [
    {
     "data": {
      "text/html": [
       "<div>\n",
       "<style scoped>\n",
       "    .dataframe tbody tr th:only-of-type {\n",
       "        vertical-align: middle;\n",
       "    }\n",
       "\n",
       "    .dataframe tbody tr th {\n",
       "        vertical-align: top;\n",
       "    }\n",
       "\n",
       "    .dataframe thead th {\n",
       "        text-align: right;\n",
       "    }\n",
       "</style>\n",
       "<table border=\"1\" class=\"dataframe\">\n",
       "  <thead>\n",
       "    <tr style=\"text-align: right;\">\n",
       "      <th></th>\n",
       "      <th>Country_Region</th>\n",
       "      <th>Province_State</th>\n",
       "      <th>Active</th>\n",
       "      <th>Date</th>\n",
       "      <th>People_Tested</th>\n",
       "      <th>Confirmed</th>\n",
       "      <th>Deaths</th>\n",
       "      <th>Recovered</th>\n",
       "    </tr>\n",
       "  </thead>\n",
       "  <tbody>\n",
       "    <tr>\n",
       "      <th>247</th>\n",
       "      <td>United States</td>\n",
       "      <td>Alabama</td>\n",
       "      <td>5</td>\n",
       "      <td>2020-03-13</td>\n",
       "      <td>NaN</td>\n",
       "      <td>5</td>\n",
       "      <td>0</td>\n",
       "      <td>0</td>\n",
       "    </tr>\n",
       "    <tr>\n",
       "      <th>248</th>\n",
       "      <td>United States</td>\n",
       "      <td>Alabama</td>\n",
       "      <td>6</td>\n",
       "      <td>2020-03-14</td>\n",
       "      <td>NaN</td>\n",
       "      <td>6</td>\n",
       "      <td>0</td>\n",
       "      <td>0</td>\n",
       "    </tr>\n",
       "    <tr>\n",
       "      <th>249</th>\n",
       "      <td>United States</td>\n",
       "      <td>Alabama</td>\n",
       "      <td>12</td>\n",
       "      <td>2020-03-15</td>\n",
       "      <td>NaN</td>\n",
       "      <td>12</td>\n",
       "      <td>0</td>\n",
       "      <td>0</td>\n",
       "    </tr>\n",
       "    <tr>\n",
       "      <th>250</th>\n",
       "      <td>United States</td>\n",
       "      <td>Alabama</td>\n",
       "      <td>29</td>\n",
       "      <td>2020-03-16</td>\n",
       "      <td>NaN</td>\n",
       "      <td>29</td>\n",
       "      <td>0</td>\n",
       "      <td>0</td>\n",
       "    </tr>\n",
       "    <tr>\n",
       "      <th>251</th>\n",
       "      <td>United States</td>\n",
       "      <td>Alabama</td>\n",
       "      <td>39</td>\n",
       "      <td>2020-03-17</td>\n",
       "      <td>NaN</td>\n",
       "      <td>39</td>\n",
       "      <td>0</td>\n",
       "      <td>0</td>\n",
       "    </tr>\n",
       "    <tr>\n",
       "      <th>...</th>\n",
       "      <td>...</td>\n",
       "      <td>...</td>\n",
       "      <td>...</td>\n",
       "      <td>...</td>\n",
       "      <td>...</td>\n",
       "      <td>...</td>\n",
       "      <td>...</td>\n",
       "      <td>...</td>\n",
       "    </tr>\n",
       "    <tr>\n",
       "      <th>59318</th>\n",
       "      <td>United States</td>\n",
       "      <td>United States</td>\n",
       "      <td>4892057</td>\n",
       "      <td>2020-10-23</td>\n",
       "      <td>130243113.0</td>\n",
       "      <td>8492891</td>\n",
       "      <td>223975</td>\n",
       "      <td>3375427</td>\n",
       "    </tr>\n",
       "    <tr>\n",
       "      <th>59319</th>\n",
       "      <td>United States</td>\n",
       "      <td>United States</td>\n",
       "      <td>4943632</td>\n",
       "      <td>2020-10-24</td>\n",
       "      <td>131453610.0</td>\n",
       "      <td>8576762</td>\n",
       "      <td>224889</td>\n",
       "      <td>3406656</td>\n",
       "    </tr>\n",
       "    <tr>\n",
       "      <th>59320</th>\n",
       "      <td>United States</td>\n",
       "      <td>United States</td>\n",
       "      <td>4987859</td>\n",
       "      <td>2020-10-25</td>\n",
       "      <td>132566759.0</td>\n",
       "      <td>8637375</td>\n",
       "      <td>225229</td>\n",
       "      <td>3422878</td>\n",
       "    </tr>\n",
       "    <tr>\n",
       "      <th>59321</th>\n",
       "      <td>United States</td>\n",
       "      <td>United States</td>\n",
       "      <td>5016589</td>\n",
       "      <td>2020-10-26</td>\n",
       "      <td>133748444.0</td>\n",
       "      <td>8704192</td>\n",
       "      <td>225706</td>\n",
       "      <td>3460455</td>\n",
       "    </tr>\n",
       "    <tr>\n",
       "      <th>59322</th>\n",
       "      <td>United States</td>\n",
       "      <td>United States</td>\n",
       "      <td>5063075</td>\n",
       "      <td>2020-10-27</td>\n",
       "      <td>138455519.0</td>\n",
       "      <td>8777432</td>\n",
       "      <td>226691</td>\n",
       "      <td>3487666</td>\n",
       "    </tr>\n",
       "  </tbody>\n",
       "</table>\n",
       "<p>14466 rows × 8 columns</p>\n",
       "</div>"
      ],
      "text/plain": [
       "      Country_Region Province_State   Active        Date  People_Tested  \\\n",
       "247    United States        Alabama        5  2020-03-13            NaN   \n",
       "248    United States        Alabama        6  2020-03-14            NaN   \n",
       "249    United States        Alabama       12  2020-03-15            NaN   \n",
       "250    United States        Alabama       29  2020-03-16            NaN   \n",
       "251    United States        Alabama       39  2020-03-17            NaN   \n",
       "...              ...            ...      ...         ...            ...   \n",
       "59318  United States  United States  4892057  2020-10-23    130243113.0   \n",
       "59319  United States  United States  4943632  2020-10-24    131453610.0   \n",
       "59320  United States  United States  4987859  2020-10-25    132566759.0   \n",
       "59321  United States  United States  5016589  2020-10-26    133748444.0   \n",
       "59322  United States  United States  5063075  2020-10-27    138455519.0   \n",
       "\n",
       "       Confirmed  Deaths  Recovered  \n",
       "247            5       0          0  \n",
       "248            6       0          0  \n",
       "249           12       0          0  \n",
       "250           29       0          0  \n",
       "251           39       0          0  \n",
       "...          ...     ...        ...  \n",
       "59318    8492891  223975    3375427  \n",
       "59319    8576762  224889    3406656  \n",
       "59320    8637375  225229    3422878  \n",
       "59321    8704192  225706    3460455  \n",
       "59322    8777432  226691    3487666  \n",
       "\n",
       "[14466 rows x 8 columns]"
      ]
     },
     "execution_count": 100,
     "metadata": {},
     "output_type": "execute_result"
    }
   ],
   "source": [
    "us_data"
   ]
  },
  {
   "cell_type": "markdown",
   "metadata": {},
   "source": [
    "### d) Find the number of active cases in the US for every available date.\n",
    "\n",
    "Now that we have filtered our data to contain only the United States,  we can find out how many active cases there were across the entire United States on a given day.\n",
    "\n",
    "To do this, we want to aggregate the US data based on the date.\n",
    "So if multiple states report cases on a specific date, we want to add all those active cases into a single number.\n",
    "We can accomplish this using a `<dataframe>.groupby()` function."
   ]
  },
  {
   "cell_type": "code",
   "execution_count": 119,
   "metadata": {},
   "outputs": [
    {
     "data": {
      "image/png": "[encoded data removed]",
      "text/plain": [
       "<Figure size 720x360 with 1 Axes>"
      ]
     },
     "metadata": {
      "needs_background": "light"
     },
     "output_type": "display_data"
    }
   ],
   "source": [
    "# for the US data, let's aggregate the number of active cases for a given date\n",
    "active_cases_us = us_data.groupby('Date')['Active'].sum()\n",
    "\n",
    "plt.figure(figsize=(10,5))\n",
    "active_cases_us.plot()\n",
    "plt.ylabel('# Active Cases')\n",
    "plt.title('Active Cases in the United States')\n",
    "plt.show()"
   ]
  },
  {
   "cell_type": "markdown",
   "metadata": {},
   "source": [
    "As we can see, the number of cases has steadily been increasing.\n",
    "\n",
    "### e) Which state has had it worst? Find the state with the most active cases in a single day\n",
    "\n",
    "You will now perform another very important step when dealing with big data sets: **cleaning the data**.\n",
    "\n",
    "Let's check the value of a specific row corresponding to the column with label `Province_State`:"
   ]
  },
  {
   "cell_type": "code",
   "execution_count": null,
   "metadata": {},
   "outputs": [],
   "source": [
    "us_data['Province_State'][54779]"
   ]
  },
  {
   "cell_type": "markdown",
   "metadata": {},
   "source": [
    "We should first remove the rows that do not have a meaningful value corresponding to `Province_State` (meaning, it is a data row that does not correspond to a state). We will remove the rows where (1) `Province_State` is `NAN` and (2) `Province_State` is `United States` (which has the combined states). For example, to get (1) you can use\n",
    "```python\n",
    "us_data[ us_data['Province_State'].notnull() ]\n",
    "```\n",
    "\n",
    "Define `us_states_data` which is a copy of `us_data` without the rows according to the description above."
   ]
  },
  {
   "cell_type": "code",
   "execution_count": 197,
   "metadata": {},
   "outputs": [],
   "source": [
    "#grade (enter your code in this cell - DO NOT DELETE THIS LINE) \n",
    "us_states_data = us_data[us_data['Province_State'].notnull()].copy()\n",
    "us_states_data = us_states_data[us_states_data['Province_State'] != 'United States'].copy()"
   ]
  },
  {
   "cell_type": "markdown",
   "metadata": {},
   "source": [
    "Note the smaller number of rows in this view!\n",
    "\n",
    "Now, using the dataframe `us_states_data`, group by `Province_State`, and get the `sum` corresponding to each column label. Store this dataframe as `us_group`."
   ]
  },
  {
   "cell_type": "code",
   "execution_count": 210,
   "metadata": {},
   "outputs": [
    {
     "name": "stdout",
     "output_type": "stream",
     "text": [
      "          People_Tested  Confirmed  Deaths  Recovered\n",
      "Active                                               \n",
      "-3487666            0.0          0       0    3487666\n",
      "-3460455            0.0          0       0    3460455\n",
      "-3422878            0.0          0       0    3422878\n",
      "-3406656            0.0          0       0    3406656\n",
      "-3375427            0.0          0       0    3375427\n",
      "...                 ...        ...     ...        ...\n",
      " 886341      17609179.0     903684   17343          0\n",
      " 886708       7883440.0     904769   18061          0\n",
      " 889238      17787885.0     906596   17358          0\n",
      " 893052      17982829.0     910438   17386          0\n",
      " 897428      18127049.0     914888   17460          0\n",
      "\n",
      "[10548 rows x 4 columns]\n"
     ]
    }
   ],
   "source": [
    "#grade (enter your code in this cell - DO NOT DELETE THIS LINE) \n",
    "#print(us_states_data)\n",
    "us_group = us_states_data.groupby('Province_State').sum()\n",
    "usa = us_states_data.groupby('Active').sum()\n",
    "print(usa)"
   ]
  },
  {
   "cell_type": "markdown",
   "metadata": {},
   "source": [
    "Obtain the state with the largest total number of active cases. Store this in the variable `state_max_cases` (note your answer is a string). Store the corresponding largest total number of active cases as `max_cases`."
   ]
  },
  {
   "cell_type": "code",
   "execution_count": 212,
   "metadata": {},
   "outputs": [
    {
     "name": "stdout",
     "output_type": "stream",
     "text": [
      "83397939\n",
      "                  Active  People_Tested  Confirmed   Deaths  Recovered\n",
      "Province_State                                                        \n",
      "California      83397939   1.454033e+09   85153910  1755895         76\n"
     ]
    }
   ],
   "source": [
    "#grade (enter your code in this cell - DO NOT DELETE THIS LINE) \n",
    "max_cases = max(us_group['Active'])\n",
    "print(max_cases)\n",
    "row = us_group[us_group['Active'] == max_cases]\n",
    "print(row)\n",
    "state_max_cases = \"California\"\n",
    "\n"
   ]
  },
  {
   "cell_type": "code",
   "execution_count": 214,
   "metadata": {},
   "outputs": [],
   "source": [
    "\n",
    "# print(state_max_cases.groups)\n",
    "# print(max_cases)"
   ]
  },
  {
   "cell_type": "markdown",
   "metadata": {},
   "source": [
    "As an example of plots using pandas, take a look at the code snippet below:"
   ]
  },
  {
   "cell_type": "code",
   "execution_count": 213,
   "metadata": {},
   "outputs": [
    {
     "name": "stdout",
     "output_type": "stream",
     "text": [
      "['El Salvador' 'Sri Lanka' 'San Marino']\n"
     ]
    },
    {
     "data": {
      "image/png": "[encoded data removed]",
      "text/plain": [
       "<Figure size 720x360 with 1 Axes>"
      ]
     },
     "metadata": {
      "needs_background": "light"
     },
     "output_type": "display_data"
    },
    {
     "name": "stdout",
     "output_type": "stream",
     "text": [
      "Province_State\n",
      "Alabama             15092334\n",
      "Alaska                697441\n",
      "American Samoa             0\n",
      "Arizona             23792936\n",
      "Arkansas             7849898\n",
      "                      ...   \n",
      "Washington, D.C.           4\n",
      "West Virginia        1424560\n",
      "Wisconsin           11507473\n",
      "Wuhan Evacuee              4\n",
      "Wyoming               596183\n",
      "Name: Active, Length: 68, dtype: int64\n"
     ]
    }
   ],
   "source": [
    "# pick 3 more countries and plot them all on the same plot\n",
    "# since the code below selects 3 countries at random, \n",
    "# you can run it several times to see different plots\n",
    "chosen_countries = np.random.choice(unique_countries,3)\n",
    "print(chosen_countries)\n",
    "\n",
    "# create an aggregated dataframe for each country and plot\n",
    "plt.figure(figsize=(10,5))\n",
    "for country in chosen_countries:\n",
    "    country_data = covid_data[covid_data[labels[0]] == country]\n",
    "    active_cases = country_data.groupby('Date')['Active'].sum()\n",
    "    active_cases.plot(logy=True)\n",
    "\n",
    "plt.ylabel('# Active Cases')\n",
    "plt.title('Active Cases in Different Countries')\n",
    "plt.legend(chosen_countries)\n",
    "plt.show()\n",
    "print(active_cases_us)"
   ]
  },
  {
   "cell_type": "markdown",
   "metadata": {},
   "source": [
    "### f) Linear Least Squares Model\n",
    "\n",
    "We want to create a simplistic model that will describe the number of active cases of coronavirus in the US. One simple model that we can use is linear regression. We will first approximate our data points using a straight line.\n",
    "\n",
    "That is, we want to compute $m$ (slope) and $b$ (y-intercept) such that\n",
    "$$\n",
    "y_i = m x_i + b,\n",
    "$$\n",
    "where $(x_i,y_i)$ represents the day increment (days since the data collection started) and number of active cases on each day. We can write this in matrix form as\n",
    "$$\n",
    "\\mathbf{Ac} \\cong \\mathbf{y}.\n",
    "$$\n",
    "\n",
    "where ${\\bf c} = [m,b]$ is the least-squares solution. For now, we will use the data stored in `active_cases_us` computed above (this will define your array ${\\bf y}$). For simplicity, we will define $x_i$ as $[0,1,2,3,4,...,n-1]$ where $n$ is the dimension of the array ${\\bf y}$.\n",
    "\n",
    " **Construct the matrix A needed to compute m and b.**"
   ]
  },
  {
   "cell_type": "code",
   "execution_count": 272,
   "metadata": {},
   "outputs": [
    {
     "name": "stdout",
     "output_type": "stream",
     "text": [
      "68\n"
     ]
    },
    {
     "data": {
      "text/plain": [
       "array([9.66763026e+09, 5.14269961e+08])"
      ]
     },
     "execution_count": 272,
     "metadata": {},
     "output_type": "execute_result"
    }
   ],
   "source": [
    "#grade (enter your code in this cell - DO NOT DELETE THIS LINE) \n",
    "A = np.array([range(len(active_cases_us)),np.ones(len(active_cases_us))], float).T\n",
    "print(A.shape[0])\n",
    "A.T@A\n",
    "A.T@active_cases_us"
   ]
  },
  {
   "cell_type": "markdown",
   "metadata": {},
   "source": [
    "We will solve the linear least-squares using normal equations, i.e.:\n",
    "$$\n",
    "\\mathbf{A^T A c} = \\mathbf{A^T y}.\n",
    "$$\n",
    "\n",
    "**Using the normal equations, compute the slope and y-intercept.** Store the slope as `m` and the intercept as `b`."
   ]
  },
  {
   "cell_type": "code",
   "execution_count": 280,
   "metadata": {},
   "outputs": [
    {
     "name": "stdout",
     "output_type": "stream",
     "text": [
      "\n"
     ]
    }
   ],
   "source": [
    "#grade (enter your code in this cell - DO NOT DELETE THIS LINE) \n",
    "#\n",
    "import numpy.linalg as la\n",
    "print()\n",
    "a1 = A.T@A\n",
    "y = A.T@active_cases_us\n",
    "m,b = la.solve(a1,y)\n",
    "#over"
   ]
  },
  {
   "cell_type": "code",
   "execution_count": 281,
   "metadata": {},
   "outputs": [
    {
     "name": "stdout",
     "output_type": "stream",
     "text": [
      "-288598.4438485324 17230841.413043484\n"
     ]
    }
   ],
   "source": [
    "print(m,b)"
   ]
  },
  {
   "cell_type": "markdown",
   "metadata": {},
   "source": [
    "The last thing we want to do now is visualize how our model compares with the actual data.\n",
    "\n",
    "**In a single plot, plot the model and the actual data for the number of active cases in the US.**"
   ]
  },
  {
   "cell_type": "code",
   "execution_count": null,
   "metadata": {},
   "outputs": [],
   "source": [
    "active_cases = active_cases_us.values\n",
    "n = active_cases.shape[0]\n",
    "x = np.arange(n)\n",
    "\n",
    "xs = np.linspace(np.min(x),np.max(x),num=1000)\n",
    "ys = b + m*xs\n",
    "\n",
    "plt.figure(figsize=(7,5))\n",
    "plt.plot(xs,ys,label='Linear Model')\n",
    "plt.plot(active_cases_us.values, 'o', label='Data')\n",
    "plt.legend()\n",
    "plt.ylabel('# of Active Cases')\n",
    "plt.title('Active Cases in the United States')\n",
    "plt.show()"
   ]
  },
  {
   "cell_type": "markdown",
   "metadata": {},
   "source": [
    "Numpy includes a built-in function to compute the solution to a least squares problem. We can achieve the same result without using the normal equations using `np.linalg.lstsq()`. You can check it out!"
   ]
  },
  {
   "cell_type": "code",
   "execution_count": null,
   "metadata": {},
   "outputs": [],
   "source": []
  },
  {
   "cell_type": "markdown",
   "metadata": {},
   "source": [
    "You can now use your Pandas knoledge, and the linear least squares method, to create other visualizations and models using different metrics (`People_Tested`, `Confirmed`, ...) "
   ]
  },
  {
   "cell_type": "code",
   "execution_count": null,
   "metadata": {},
   "outputs": [],
   "source": []
  }
 ],
 "metadata": {
  "kernelspec": {
   "display_name": "Python 3 (ipykernel)",
   "language": "python",
   "name": "python3"
  },
  "language_info": {
   "codemirror_mode": {
    "name": "ipython",
    "version": 3
   },
   "file_extension": ".py",
   "mimetype": "text/x-python",
   "name": "python",
   "nbconvert_exporter": "python",
   "pygments_lexer": "ipython3",
   "version": "3.9.6"
  }
 },
 "nbformat": 4,
 "nbformat_minor": 4
}
